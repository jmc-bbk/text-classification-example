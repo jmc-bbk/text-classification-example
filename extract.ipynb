{
 "cells": [
  {
   "cell_type": "markdown",
   "metadata": {},
   "source": [
    "### Extract\n",
    "\n",
    "In this `.ipynb` we extract the data downloaded from https://archive.ics.uci.edu/ml/datasets/Sentiment+Labelled+Sentences.\n",
    "\n",
    "The download contains a `.zip` file. I extracted the raw `.txt` files from this `.zip` and saved them in `./data`.\n",
    "\n",
    "The dir `./data` should contain the following three files:\n",
    "\n",
    "1. `amazon_cells_labelled.txt`\n",
    "2. `imdb_labelled.txt`\n",
    "3. `yelp_labelled.txt`\n",
    "4. `readme.txt`\n",
    "\n",
    "\n",
    "This notebook allows us to extract the data from any `...labelled.txt` file in the `./data` directory and convert it into a Pandas.DataFrame."
   ]
  },
  {
   "cell_type": "code",
   "execution_count": 1,
   "metadata": {},
   "outputs": [],
   "source": [
    "import os\n",
    "import pandas as pd"
   ]
  },
  {
   "cell_type": "code",
   "execution_count": 2,
   "metadata": {},
   "outputs": [],
   "source": [
    "\"\"\"\n",
    "Read in the name of files from our ./data dir.\n",
    "\n",
    "Only append to files if the file is a .txt. Ignore the readme.txt.\n",
    "\"\"\"\n",
    "\n",
    "DATA_PATH = './data'\n",
    "\n",
    "files = [file for file in os.listdir(DATA_PATH) if os.path.splitext(file)[1] == '.txt' and file != 'readme.txt']"
   ]
  },
  {
   "cell_type": "code",
   "execution_count": 3,
   "metadata": {},
   "outputs": [
    {
     "name": "stdout",
     "output_type": "stream",
     "text": [
      "['amazon_cells_labelled.txt', 'imdb_labelled.txt', 'yelp_labelled.txt']\n"
     ]
    }
   ],
   "source": [
    "print(files)"
   ]
  },
  {
   "cell_type": "code",
   "execution_count": 4,
   "metadata": {},
   "outputs": [],
   "source": [
    "def file_to_object(path):\n",
    "    \"\"\"\n",
    "    Returns a list of data samples [document, sentiment] from our raw data.\n",
    "    \n",
    "    Document is referred to as X (this is our predictor variable).\n",
    "    Sentiment is reffered to  as y (this is our target variable).\n",
    "    \n",
    "    Parameters\n",
    "    ----------\n",
    "    path (str) : a path to our raw data to open.\n",
    "    \n",
    "    Returns\n",
    "    -------\n",
    "    out (list) : a list of lists. Internal list is of structure [document (str), sentiment (int)] \n",
    "    \"\"\"\n",
    "    \n",
    "    out = list()\n",
    "    \n",
    "    with open(path, 'r') as file:\n",
    "        for line in file:\n",
    "            split_line = line.split()      # split the raw line of text from the .txt file into a list.\n",
    "            X = ' '.join(split_line[:-1])  # take the document (sentence) assign it to X as a str.\n",
    "            y = int(split_line[-1])        # take the sentiment assign it to y as an int. \n",
    "            out.append([X, y])             # append [document, sentiment] to the outer list.\n",
    "            \n",
    "    return out"
   ]
  },
  {
   "cell_type": "code",
   "execution_count": 5,
   "metadata": {},
   "outputs": [],
   "source": [
    "def create_dataframe(file):\n",
    "    \"\"\"\n",
    "    Returns a single Pandas.DataFrame that contains reviews from one of the raw data sources.\n",
    "    \n",
    "    Parameters\n",
    "    ----------\n",
    "    file (str) : a path to the file to open.\n",
    "    \n",
    "    Returns\n",
    "    -------\n",
    "    pd.DataFrame : a dataframe that has two columns [document, sentiment].\n",
    "    \"\"\"\n",
    "    \n",
    "    path = os.path.join(DATA_PATH, file)  # get the path to a file.\n",
    "    data = file_to_object(path)           # extract the data from that file.\n",
    "    dataframe = pd.DataFrame(data, columns = ['document', 'sentiment'])  # use pandas to make the data a DataFrame.\n",
    "        \n",
    "    return dataframe"
   ]
  },
  {
   "cell_type": "code",
   "execution_count": 6,
   "metadata": {},
   "outputs": [
    {
     "data": {
      "text/html": [
       "<div>\n",
       "<style scoped>\n",
       "    .dataframe tbody tr th:only-of-type {\n",
       "        vertical-align: middle;\n",
       "    }\n",
       "\n",
       "    .dataframe tbody tr th {\n",
       "        vertical-align: top;\n",
       "    }\n",
       "\n",
       "    .dataframe thead th {\n",
       "        text-align: right;\n",
       "    }\n",
       "</style>\n",
       "<table border=\"1\" class=\"dataframe\">\n",
       "  <thead>\n",
       "    <tr style=\"text-align: right;\">\n",
       "      <th></th>\n",
       "      <th>document</th>\n",
       "      <th>sentiment</th>\n",
       "    </tr>\n",
       "  </thead>\n",
       "  <tbody>\n",
       "    <tr>\n",
       "      <th>0</th>\n",
       "      <td>So there is no way for me to plug it in here i...</td>\n",
       "      <td>0</td>\n",
       "    </tr>\n",
       "    <tr>\n",
       "      <th>1</th>\n",
       "      <td>Good case, Excellent value.</td>\n",
       "      <td>1</td>\n",
       "    </tr>\n",
       "    <tr>\n",
       "      <th>2</th>\n",
       "      <td>Great for the jawbone.</td>\n",
       "      <td>1</td>\n",
       "    </tr>\n",
       "    <tr>\n",
       "      <th>3</th>\n",
       "      <td>Tied to charger for conversations lasting more...</td>\n",
       "      <td>0</td>\n",
       "    </tr>\n",
       "    <tr>\n",
       "      <th>4</th>\n",
       "      <td>The mic is great.</td>\n",
       "      <td>1</td>\n",
       "    </tr>\n",
       "  </tbody>\n",
       "</table>\n",
       "</div>"
      ],
      "text/plain": [
       "                                            document  sentiment\n",
       "0  So there is no way for me to plug it in here i...          0\n",
       "1                        Good case, Excellent value.          1\n",
       "2                             Great for the jawbone.          1\n",
       "3  Tied to charger for conversations lasting more...          0\n",
       "4                                  The mic is great.          1"
      ]
     },
     "execution_count": 6,
     "metadata": {},
     "output_type": "execute_result"
    }
   ],
   "source": [
    "\"\"\"\n",
    "Create a dataframe and assign it to dataframe.\n",
    "\n",
    "I use the amazon_cells_labelled.txt file in this example.\n",
    "\n",
    "Use dataframe.head() to print an example of the data to our Jupyter notebook.\n",
    "\"\"\"\n",
    "\n",
    "dataframe = create_dataframe(files[0])\n",
    "\n",
    "dataframe.head()"
   ]
  },
  {
   "cell_type": "code",
   "execution_count": 7,
   "metadata": {},
   "outputs": [],
   "source": [
    "\"\"\"\n",
    "Save the final dataframe as dataframe.pkl in ./data.\n",
    "\n",
    "We can now open this file in other .ipynb notebooks.\n",
    "\"\"\"\n",
    "\n",
    "dataframe.to_pickle(os.path.join(DATA_PATH, 'dataframe.pkl'))"
   ]
  }
 ],
 "metadata": {
  "kernelspec": {
   "display_name": "myenv",
   "language": "python",
   "name": "myenv"
  },
  "language_info": {
   "codemirror_mode": {
    "name": "ipython",
    "version": 3
   },
   "file_extension": ".py",
   "mimetype": "text/x-python",
   "name": "python",
   "nbconvert_exporter": "python",
   "pygments_lexer": "ipython3",
   "version": "3.8.6"
  }
 },
 "nbformat": 4,
 "nbformat_minor": 4
}
