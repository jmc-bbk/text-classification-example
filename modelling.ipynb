{
 "cells": [
  {
   "cell_type": "code",
   "execution_count": 1,
   "metadata": {},
   "outputs": [],
   "source": [
    "import os\n",
    "import numpy as np\n",
    "import pandas as pd"
   ]
  },
  {
   "cell_type": "code",
   "execution_count": 2,
   "metadata": {},
   "outputs": [],
   "source": [
    "DATA_PATH = './data'\n",
    "\n",
    "dataframe = pd.read_pickle(os.path.join(DATA_PATH, 'dataframe.pkl'))"
   ]
  },
  {
   "cell_type": "code",
   "execution_count": 3,
   "metadata": {},
   "outputs": [
    {
     "data": {
      "text/html": [
       "<div>\n",
       "<style scoped>\n",
       "    .dataframe tbody tr th:only-of-type {\n",
       "        vertical-align: middle;\n",
       "    }\n",
       "\n",
       "    .dataframe tbody tr th {\n",
       "        vertical-align: top;\n",
       "    }\n",
       "\n",
       "    .dataframe thead th {\n",
       "        text-align: right;\n",
       "    }\n",
       "</style>\n",
       "<table border=\"1\" class=\"dataframe\">\n",
       "  <thead>\n",
       "    <tr style=\"text-align: right;\">\n",
       "      <th></th>\n",
       "      <th>document</th>\n",
       "      <th>sentiment</th>\n",
       "    </tr>\n",
       "  </thead>\n",
       "  <tbody>\n",
       "    <tr>\n",
       "      <th>0</th>\n",
       "      <td>So there is no way for me to plug it in here i...</td>\n",
       "      <td>0</td>\n",
       "    </tr>\n",
       "    <tr>\n",
       "      <th>1</th>\n",
       "      <td>Good case, Excellent value.</td>\n",
       "      <td>1</td>\n",
       "    </tr>\n",
       "    <tr>\n",
       "      <th>2</th>\n",
       "      <td>Great for the jawbone.</td>\n",
       "      <td>1</td>\n",
       "    </tr>\n",
       "    <tr>\n",
       "      <th>3</th>\n",
       "      <td>Tied to charger for conversations lasting more...</td>\n",
       "      <td>0</td>\n",
       "    </tr>\n",
       "    <tr>\n",
       "      <th>4</th>\n",
       "      <td>The mic is great.</td>\n",
       "      <td>1</td>\n",
       "    </tr>\n",
       "  </tbody>\n",
       "</table>\n",
       "</div>"
      ],
      "text/plain": [
       "                                            document  sentiment\n",
       "0  So there is no way for me to plug it in here i...          0\n",
       "1                        Good case, Excellent value.          1\n",
       "2                             Great for the jawbone.          1\n",
       "3  Tied to charger for conversations lasting more...          0\n",
       "4                                  The mic is great.          1"
      ]
     },
     "execution_count": 3,
     "metadata": {},
     "output_type": "execute_result"
    }
   ],
   "source": [
    "\"\"\"\n",
    "Let's print the head of the dataframe to Jupyter to check everything is okay!\n",
    "\"\"\"\n",
    "\n",
    "dataframe.head()"
   ]
  },
  {
   "cell_type": "markdown",
   "metadata": {},
   "source": [
    "### Exploration"
   ]
  },
  {
   "cell_type": "code",
   "execution_count": null,
   "metadata": {},
   "outputs": [],
   "source": [
    "\"\"\"\n",
    "We will do some basic exploration of the dataframe.\n",
    "\n",
    "The goal of this example is to:\n",
    "\n",
    "1. Demonstrate how to create a custom Keras text classification model.\n",
    "2. Attempt to train this model in GCP and FloydHub (later!).\n",
    "\n",
    "Exploration is therefore going to be quick and simple.\n",
    "\"\"\""
   ]
  },
  {
   "cell_type": "code",
   "execution_count": 4,
   "metadata": {},
   "outputs": [
    {
     "data": {
      "text/plain": [
       "document     1000\n",
       "sentiment    1000\n",
       "dtype: int64"
      ]
     },
     "execution_count": 4,
     "metadata": {},
     "output_type": "execute_result"
    }
   ],
   "source": [
    "\"\"\"\n",
    "We have 1000 samples in the dataframe. There are no NULL values.\n",
    "\"\"\"\n",
    "\n",
    "dataframe.count()"
   ]
  },
  {
   "cell_type": "code",
   "execution_count": 5,
   "metadata": {},
   "outputs": [],
   "source": [
    "from matplotlib import pyplot as plt\n",
    "import seaborn as sns"
   ]
  },
  {
   "cell_type": "code",
   "execution_count": 6,
   "metadata": {},
   "outputs": [
    {
     "data": {
      "image/png": "[encoded data removed]",
      "text/plain": [
       "<Figure size 432x288 with 1 Axes>"
      ]
     },
     "metadata": {
      "needs_background": "light"
     },
     "output_type": "display_data"
    }
   ],
   "source": [
    "\"\"\"\n",
    "The target variable (sentiment) is perfectly balanced between negative (0) samples and positive (1) samples.\n",
    "\n",
    "Classification problems usually have some form of class imbalance (e.g. 1 class with more samples than another).\n",
    "\n",
    "In the case of imbalance you may wish to oversample/undersample to create a more balanced class representation.\n",
    "\n",
    "\"\"\"\n",
    "\n",
    "sns.countplot(x='sentiment', data=dataframe)\n",
    "plt.show()"
   ]
  },
  {
   "cell_type": "markdown",
   "metadata": {},
   "source": [
    "### Splitting"
   ]
  },
  {
   "cell_type": "code",
   "execution_count": 7,
   "metadata": {},
   "outputs": [],
   "source": [
    "import random\n",
    "from sklearn.model_selection import train_test_split\n",
    "\n",
    "RANDOM_STATE = 7"
   ]
  },
  {
   "cell_type": "code",
   "execution_count": 8,
   "metadata": {},
   "outputs": [],
   "source": [
    "\"\"\"\n",
    "Take the documents from our dataframe and assign them to X.\n",
    "Take the sentiment from our dataframe and assign them to y.\n",
    "\n",
    "The .values attribute returns a numpy array rather than a pandas series.\n",
    "\"\"\"\n",
    "\n",
    "X = dataframe['document'].values\n",
    "y = dataframe['sentiment'].values"
   ]
  },
  {
   "cell_type": "code",
   "execution_count": 9,
   "metadata": {},
   "outputs": [],
   "source": [
    "\"\"\"\n",
    "Transform y from a single vector into a matrix more commonly used in Tensorflow.\n",
    "\n",
    "Consider the vector [0, 1, 0, ... 0, 1, 0].\n",
    "\n",
    "We transform this into a matrix:\n",
    "\n",
    "[[1,0],\n",
    " [0,1],\n",
    " [1,0],\n",
    " ...,\n",
    " [1,0],\n",
    " [0,1],\n",
    " [1,0]]\n",
    "\"\"\"\n",
    "\n",
    "from keras.utils import np_utils\n",
    "\n",
    "y = np_utils.to_categorical(y)"
   ]
  },
  {
   "cell_type": "code",
   "execution_count": 10,
   "metadata": {},
   "outputs": [],
   "source": [
    "\"\"\"\n",
    "We want to split our dataframe into a train set and a test set.\n",
    "\n",
    "We will leave the test set to one side (we don't train on it!) so we can evaluate performance at the end.\n",
    "\n",
    "We save 10% of our data for the test set (100 samples).\n",
    "\n",
    "We also shuffle the data in case there is any ordering (e.g. all the negative samples at the end).\n",
    "\"\"\"\n",
    "\n",
    "random.seed(RANDOM_STATE)\n",
    "\n",
    "X_train, X_test, y_train, y_test = train_test_split(X, \n",
    "                                                    y, \n",
    "                                                    test_size=0.1, \n",
    "                                                    shuffle=True, \n",
    "                                                    random_state=RANDOM_STATE)"
   ]
  },
  {
   "cell_type": "code",
   "execution_count": 11,
   "metadata": {},
   "outputs": [],
   "source": [
    "\"\"\"\n",
    "We split the train set further into a train set and a validation set.\n",
    "\n",
    "The validation set will be used when we train the model to check its performance.\n",
    "\"\"\"\n",
    "\n",
    "random.seed(RANDOM_STATE)\n",
    "\n",
    "X_train, X_val, y_train, y_val = train_test_split(X_train,\n",
    "                                                  y_train,\n",
    "                                                  test_size = 0.1,\n",
    "                                                  random_state=RANDOM_STATE)"
   ]
  },
  {
   "cell_type": "code",
   "execution_count": 12,
   "metadata": {},
   "outputs": [
    {
     "data": {
      "text/plain": [
       "((810,), (90,), (100,))"
      ]
     },
     "execution_count": 12,
     "metadata": {},
     "output_type": "execute_result"
    }
   ],
   "source": [
    "\"\"\"\n",
    "We can visually check that the splitting has worked by printing the shape of our resulting dataframes.\n",
    "\n",
    "We can see that there is still a total of 1000 samples.\n",
    "\"\"\"\n",
    "\n",
    "X_train.shape, X_val.shape, X_test.shape"
   ]
  },
  {
   "cell_type": "markdown",
   "metadata": {},
   "source": [
    "### Preprocess"
   ]
  },
  {
   "cell_type": "code",
   "execution_count": 13,
   "metadata": {},
   "outputs": [],
   "source": [
    "from tensorflow.python.keras.preprocessing.text import Tokenizer"
   ]
  },
  {
   "cell_type": "code",
   "execution_count": null,
   "metadata": {},
   "outputs": [],
   "source": [
    "\"\"\"\n",
    "We're now going to do some preprocessing of the data.\n",
    "\n",
    "We use Tensorflow's Tokenizer:\n",
    "\n",
    "https://www.tensorflow.org/api_docs/python/tf/keras/preprocessing/text/Tokenizer\n",
    "\n",
    "Consider the document \"the cat SAT on the mat.\"\n",
    "\n",
    "The default parameters of this Tokenizer do the following:\n",
    "\n",
    "1. Split the document to a list -> [\"the\", \"cat\", \"SAT\", \"on\", \"the\", \"mat\", \".\"]\n",
    "2. Remove punctuation from the texts -> [\"the\", \"cat\", \"SAT\", \"on\", \"the\", \"mat\"]\n",
    "3. Convert the texts to lowercase -> [\"the\", \"cat\", \"sat\", \"on\", \"the\", \"mat\"]\n",
    "4. Replace the strings with unique tokens -> [1, 2, 3, 4, 1, 5]\n",
    "\"\"\""
   ]
  },
  {
   "cell_type": "code",
   "execution_count": 14,
   "metadata": {},
   "outputs": [],
   "source": [
    "tokenizer = Tokenizer()"
   ]
  },
  {
   "cell_type": "code",
   "execution_count": 15,
   "metadata": {},
   "outputs": [],
   "source": [
    "tokenizer.fit_on_texts(X)"
   ]
  },
  {
   "cell_type": "code",
   "execution_count": 16,
   "metadata": {},
   "outputs": [],
   "source": [
    "X_train_tokens = tokenizer.texts_to_sequences(X_train)\n",
    "X_val_tokens = tokenizer.texts_to_sequences(X_val)\n",
    "X_test_tokens = tokenizer.texts_to_sequences(X_test)"
   ]
  },
  {
   "cell_type": "code",
   "execution_count": 17,
   "metadata": {},
   "outputs": [
    {
     "name": "stdout",
     "output_type": "stream",
     "text": [
      "Perfect for the PS3.\n",
      "[1693, 11, 1, 1694]\n"
     ]
    }
   ],
   "source": [
    "\"\"\"\n",
    "Example of the Tokenizer conversion.\n",
    "\"\"\"\n",
    "\n",
    "print(X_train[0], X_train_tokens[0], sep='\\n')"
   ]
  },
  {
   "cell_type": "code",
   "execution_count": 18,
   "metadata": {},
   "outputs": [],
   "source": [
    "\"\"\"\n",
    "We extract the length of our longest document.\n",
    "\n",
    "When we pass our documents into the neural network - we require they are all the same size.\n",
    "\n",
    "We will make all the documents the same length (i.e. the length of the longest document).\n",
    "\"\"\"\n",
    "\n",
    "max_document_len = max([len(doc.split()) for doc in X])"
   ]
  },
  {
   "cell_type": "code",
   "execution_count": 19,
   "metadata": {},
   "outputs": [],
   "source": [
    "\"\"\"\n",
    "We extract the number of words in our vocabulary (i.e. unique words across all documents).\n",
    "\n",
    "This is another parameter we will pass into our neural network.\n",
    "\"\"\"\n",
    "\n",
    "vocab_size = len(tokenizer.word_index) + 1"
   ]
  },
  {
   "cell_type": "code",
   "execution_count": 20,
   "metadata": {},
   "outputs": [],
   "source": [
    "from tensorflow.python.keras.preprocessing.sequence import pad_sequences"
   ]
  },
  {
   "cell_type": "code",
   "execution_count": 21,
   "metadata": {},
   "outputs": [],
   "source": [
    "\"\"\"\n",
    "Tensorflow has a handy function to make all our documents the same length.\n",
    "\n",
    "We make all the documents the length of max_document_len by padding them with zeros.\n",
    "\n",
    "Consider tokenize(\"the cat sat on the mat.\") -> [1, 2, 3, 4, 1, 5] with a max_document_len of 8:\n",
    "\n",
    "We have an output of [1, 2, 3, 4, 1, 5, 0, 0]\n",
    "\"\"\"\n",
    "\n",
    "X_train_padded = pad_sequences(X_train_tokens, maxlen=max_document_len, padding='post')\n",
    "X_val_padded = pad_sequences(X_val_tokens, maxlen=max_document_len, padding='post')\n",
    "X_test_padded = pad_sequences(X_test_tokens, maxlen=max_document_len, padding='post')"
   ]
  },
  {
   "cell_type": "markdown",
   "metadata": {},
   "source": [
    "### Modelling"
   ]
  },
  {
   "cell_type": "code",
   "execution_count": null,
   "metadata": {},
   "outputs": [],
   "source": [
    "\"\"\"\n",
    "Now we're ready to start modelling.\n",
    "\n",
    "We're going to make a custom neural network in Keras with the following layers:\n",
    "\n",
    "1. Embedding Layer (transforms each word token into a vector).\n",
    "2. LSTM Layer (a type of recurrent layer that will be trained on our documents).\n",
    "3. Dense Layer (the output layer that contains two units [i.e. for our two classes])\n",
    "\n",
    "\n",
    "For a great article on Embedding check out this link:\n",
    "\n",
    "https://machinelearningmastery.com/use-word-embedding-layers-deep-learning-keras/\n",
    "\"\"\""
   ]
  },
  {
   "cell_type": "code",
   "execution_count": 23,
   "metadata": {},
   "outputs": [],
   "source": [
    "from keras.callbacks import EarlyStopping\n",
    "from keras.callbacks import ModelCheckpoint"
   ]
  },
  {
   "cell_type": "code",
   "execution_count": 24,
   "metadata": {},
   "outputs": [],
   "source": [
    "\"\"\"\n",
    "We implement EarlyStopping to prevent overfitting our model.\n",
    "\n",
    "We specify that we want to monitor the accuracy of our model on the validation set.\n",
    "\n",
    "If we don't see an improvement in 2 epochs (patience=2) we stop training the model.\n",
    "\n",
    "We also include ModelCheckpoint which saves the best version of our model.\n",
    "\n",
    "In this case we always save the version of the model that has the best accuracy on the validation set.\n",
    "\"\"\"\n",
    "\n",
    "MODEL_PATH = './models'\n",
    "\n",
    "es = EarlyStopping(monitor='val_binary_accuracy', \n",
    "                   patience=2)\n",
    "mc = ModelCheckpoint(os.path.join(MODEL_PATH, 'lstm_model.h5'),\n",
    "                     monitor='val_binary_accuracy', \n",
    "                     save_best_only=True,\n",
    "                     verbose=1)\n",
    "\n",
    "cbs = [es, mc]"
   ]
  },
  {
   "cell_type": "code",
   "execution_count": 25,
   "metadata": {},
   "outputs": [],
   "source": [
    "\"\"\"\n",
    "We need to specify the dimension of the vectors for our Embedding Layer.\n",
    "\n",
    "In this model we turn each word token into a vector of length 128.\n",
    "\n",
    "We could find the optimal value for this hyperparameter by tuning the model.\n",
    "\"\"\"\n",
    "\n",
    "EMBEDDING_DIM = 128"
   ]
  },
  {
   "cell_type": "code",
   "execution_count": 26,
   "metadata": {},
   "outputs": [],
   "source": [
    "from keras.models import Sequential\n",
    "from keras.layers import Dense, Embedding, LSTM\n",
    "from keras.layers.embeddings import Embedding"
   ]
  },
  {
   "cell_type": "code",
   "execution_count": 27,
   "metadata": {},
   "outputs": [],
   "source": [
    "\"\"\"\n",
    "This is a simple model with the structure we defined above.\n",
    "\n",
    "The Embedding layer takes: vocab_size, EMBEDDING_DIM, max_document_len as arguments.\n",
    "\n",
    "We also specify mask_zero=True to let the model know we have padded our input sequences with zeros (see Preprocess).\n",
    "\n",
    "The LSTM layer is defined to have 64 units. We use a tanh activation function that is popular for LSTMs.\n",
    "\n",
    "The Dense layer has 2 units (one per class) and we use a sigmoid activation function.\n",
    "\"\"\"\n",
    "\n",
    "model = Sequential()\n",
    "model.add(Embedding(vocab_size, EMBEDDING_DIM, input_length=max_document_len, mask_zero=True))\n",
    "model.add(LSTM(units=64, activation='tanh'))\n",
    "model.add(Dense(2, activation='sigmoid'))"
   ]
  },
  {
   "cell_type": "code",
   "execution_count": 28,
   "metadata": {},
   "outputs": [],
   "source": [
    "\"\"\"\n",
    "Given we're using a sigmoid activation function - and we have a binary classification problem - we use binary crossentropy\n",
    "as our loss function.\n",
    "\"\"\"\n",
    "\n",
    "model.compile(loss='binary_crossentropy', \n",
    "              optimizer='adam', \n",
    "              metrics=['binary_accuracy'])"
   ]
  },
  {
   "cell_type": "code",
   "execution_count": 29,
   "metadata": {},
   "outputs": [
    {
     "name": "stdout",
     "output_type": "stream",
     "text": [
      "Epoch 1/30\n",
      "26/26 [==============================] - 5s 60ms/step - loss: 0.6913 - binary_accuracy: 0.5330 - val_loss: 0.6750 - val_binary_accuracy: 0.7222\n",
      "\n",
      "Epoch 00001: val_binary_accuracy improved from -inf to 0.72222, saving model to ./models\\lstm_model.h5\n",
      "Epoch 2/30\n",
      "26/26 [==============================] - 0s 11ms/step - loss: 0.6136 - binary_accuracy: 0.8604 - val_loss: 0.7337 - val_binary_accuracy: 0.7111\n",
      "\n",
      "Epoch 00002: val_binary_accuracy did not improve from 0.72222\n",
      "Epoch 3/30\n",
      "26/26 [==============================] - 0s 11ms/step - loss: 0.3858 - binary_accuracy: 0.9204 - val_loss: 0.4638 - val_binary_accuracy: 0.7889\n",
      "\n",
      "Epoch 00003: val_binary_accuracy improved from 0.72222 to 0.78889, saving model to ./models\\lstm_model.h5\n",
      "Epoch 4/30\n",
      "26/26 [==============================] - 0s 11ms/step - loss: 0.1965 - binary_accuracy: 0.9627 - val_loss: 0.4634 - val_binary_accuracy: 0.8444\n",
      "\n",
      "Epoch 00004: val_binary_accuracy improved from 0.78889 to 0.84444, saving model to ./models\\lstm_model.h5\n",
      "Epoch 5/30\n",
      "26/26 [==============================] - 0s 11ms/step - loss: 0.0856 - binary_accuracy: 0.9877 - val_loss: 0.4800 - val_binary_accuracy: 0.8333\n",
      "\n",
      "Epoch 00005: val_binary_accuracy did not improve from 0.84444\n",
      "Epoch 6/30\n",
      "26/26 [==============================] - 0s 11ms/step - loss: 0.0620 - binary_accuracy: 0.9958 - val_loss: 0.4630 - val_binary_accuracy: 0.8611\n",
      "\n",
      "Epoch 00006: val_binary_accuracy improved from 0.84444 to 0.86111, saving model to ./models\\lstm_model.h5\n",
      "Epoch 7/30\n",
      "26/26 [==============================] - 0s 11ms/step - loss: 0.0506 - binary_accuracy: 0.9932 - val_loss: 0.6744 - val_binary_accuracy: 0.8222\n",
      "\n",
      "Epoch 00007: val_binary_accuracy did not improve from 0.86111\n",
      "Epoch 8/30\n",
      "26/26 [==============================] - 0s 11ms/step - loss: 0.0436 - binary_accuracy: 0.9950 - val_loss: 0.4522 - val_binary_accuracy: 0.8444\n",
      "\n",
      "Epoch 00008: val_binary_accuracy did not improve from 0.86111\n"
     ]
    }
   ],
   "source": [
    "history=model.fit(X_train_padded, \n",
    "                  y_train,\n",
    "                  batch_size=32, \n",
    "                  epochs=30,\n",
    "                  validation_data=(X_val_padded, y_val), \n",
    "                  verbose=True, \n",
    "                  callbacks=cbs)"
   ]
  },
  {
   "cell_type": "code",
   "execution_count": 30,
   "metadata": {},
   "outputs": [],
   "source": [
    "from keras.models import load_model"
   ]
  },
  {
   "cell_type": "code",
   "execution_count": 31,
   "metadata": {},
   "outputs": [],
   "source": [
    "\"\"\"\n",
    "We could simply use the model object we have trained in this notebook.\n",
    "\n",
    "However I'm going to show you how to load a saved model here.\n",
    "\"\"\"\n",
    "\n",
    "saved_model = load_model(os.path.join(MODEL_PATH, 'lstm_model.h5'))"
   ]
  },
  {
   "cell_type": "code",
   "execution_count": 32,
   "metadata": {},
   "outputs": [
    {
     "name": "stdout",
     "output_type": "stream",
     "text": [
      "4/4 [==============================] - 1s 0s/step - loss: 0.6595 - binary_accuracy: 0.8200\n"
     ]
    },
    {
     "data": {
      "text/plain": [
       "[0.6595014929771423, 0.8199999928474426]"
      ]
     },
     "execution_count": 32,
     "metadata": {},
     "output_type": "execute_result"
    }
   ],
   "source": [
    "saved_model.evaluate(X_test_padded, y_test)"
   ]
  },
  {
   "cell_type": "code",
   "execution_count": 33,
   "metadata": {},
   "outputs": [
    {
     "data": {
      "image/png": "[encoded data removed]",
      "text/plain": [
       "<Figure size 432x288 with 1 Axes>"
      ]
     },
     "metadata": {
      "needs_background": "light"
     },
     "output_type": "display_data"
    }
   ],
   "source": [
    "\"\"\"\n",
    "Using the history object we created during model.fit() we can plot the loss of the network over the Epochs.\n",
    "\"\"\"\n",
    "\n",
    "plt.plot(history.history['loss'], label='train')\n",
    "plt.plot(history.history['val_loss'], label='test')\n",
    "plt.xlabel('Epoch')\n",
    "plt.ylabel('Loss')\n",
    "plt.legend()\n",
    "plt.show()"
   ]
  },
  {
   "cell_type": "code",
   "execution_count": 34,
   "metadata": {},
   "outputs": [
    {
     "data": {
      "image/png": "[encoded data removed]",
      "text/plain": [
       "<Figure size 432x288 with 1 Axes>"
      ]
     },
     "metadata": {
      "needs_background": "light"
     },
     "output_type": "display_data"
    }
   ],
   "source": [
    "\"\"\"\n",
    "We can also plot the accuracy of the network over the Epochs.\n",
    "\"\"\"\n",
    "\n",
    "plt.plot(history.history['binary_accuracy'], label='train')\n",
    "plt.plot(history.history['val_binary_accuracy'], label='test')\n",
    "plt.xlabel('Epoch')\n",
    "plt.ylabel('Accuracy')\n",
    "plt.legend()\n",
    "plt.show()"
   ]
  },
  {
   "cell_type": "code",
   "execution_count": 35,
   "metadata": {},
   "outputs": [],
   "source": [
    "from sklearn.metrics import classification_report"
   ]
  },
  {
   "cell_type": "code",
   "execution_count": 36,
   "metadata": {},
   "outputs": [],
   "source": [
    "\"\"\"\n",
    "We can make predictions for our test set by calling saved_model.predict().\n",
    "\"\"\"\n",
    "\n",
    "predictions = saved_model.predict(X_test_padded)"
   ]
  },
  {
   "cell_type": "code",
   "execution_count": 37,
   "metadata": {},
   "outputs": [
    {
     "name": "stdout",
     "output_type": "stream",
     "text": [
      "              precision    recall  f1-score   support\n",
      "\n",
      "           0       0.77      0.88      0.82        49\n",
      "           1       0.86      0.75      0.80        51\n",
      "\n",
      "    accuracy                           0.81       100\n",
      "   macro avg       0.82      0.81      0.81       100\n",
      "weighted avg       0.82      0.81      0.81       100\n",
      "\n"
     ]
    }
   ],
   "source": [
    "\"\"\"\n",
    "We can then use classification_report from sklearn.metrics to get a report on our models performance.\n",
    "\n",
    "We can see pretty good performance on the test set, with an accuracy of 81%.\n",
    "\n",
    "Not bad for only 1000 reviews and a model with no tuning (and only 1 LSTM layer!).\n",
    "\n",
    "The random initialisation of weights of the neural network appears to have a big impact on this problem. Previous runs of the\n",
    "same code block were able to achieve upwards of 84% accuracy.\n",
    "\"\"\"\n",
    "\n",
    "print(classification_report(y_test.argmax(axis=1), predictions.argmax(axis=1)))"
   ]
  }
 ],
 "metadata": {
  "kernelspec": {
   "display_name": "myenv",
   "language": "python",
   "name": "myenv"
  },
  "language_info": {
   "codemirror_mode": {
    "name": "ipython",
    "version": 3
   },
   "file_extension": ".py",
   "mimetype": "text/x-python",
   "name": "python",
   "nbconvert_exporter": "python",
   "pygments_lexer": "ipython3",
   "version": "3.8.6"
  }
 },
 "nbformat": 4,
 "nbformat_minor": 4
}
